{
  "nbformat": 4,
  "nbformat_minor": 0,
  "metadata": {
    "colab": {
      "name": "DialectClassifier-code.ipynb",
      "provenance": [],
      "collapsed_sections": []
    },
    "kernelspec": {
      "name": "python3",
      "display_name": "Python 3"
    }
  },
  "cells": [
    {
      "cell_type": "markdown",
      "metadata": {
        "id": "ui5eQuo1DMEI"
      },
      "source": [
        "# Project goals\n",
        "\n",
        "The main goal of this project will be using machine learning techniques to **train a model that can determine whether a given sentence (i.e., subtitle line) represents the Spanish spoken in Spain or the Spanish spoken in Mexico**. \n",
        "\n",
        "The main challenge is that subtitle lines tend to be short (not many words) and might thus not be very informative for the model. This, in turn, could result in low accuracy scores. On the other hand, if the vocabulary and grammar vary enough from line to line, the model should not have many difficulties in determining the dialect despite working with short sentences. "
      ]
    },
    {
      "cell_type": "code",
      "metadata": {
        "id": "4ZK0-f54UAtE"
      },
      "source": [
        "import pandas as pd\n",
        "import numpy as np\n",
        "import seaborn as sns\n",
        "import re\n",
        "import matplotlib.pyplot as plt\n",
        "from sklearn import preprocessing\n",
        "from sklearn.model_selection import train_test_split\n",
        "from sklearn.naive_bayes import MultinomialNB\n",
        "from sklearn.feature_extraction.text import CountVectorizer\n",
        "from sklearn import metrics"
      ],
      "execution_count": 2,
      "outputs": []
    },
    {
      "cell_type": "markdown",
      "metadata": {
        "id": "GJvmagnZDPjW"
      },
      "source": [
        "# Data Acquisition, Selection, Cleaning\n",
        "\n",
        "The data is in a .csv file hosted on my personal Github account. I made the Github repository public and imported it to this notebook in the form of a pandas dataframe.\n"
      ]
    },
    {
      "cell_type": "code",
      "metadata": {
        "id": "opV9QjQ6SsuE",
        "colab": {
          "base_uri": "https://localhost:8080/",
          "height": 204
        },
        "outputId": "3cdb9a09-8e6c-4773-f988-d808f7068692"
      },
      "source": [
        "def install_data():\n",
        "  url = 'https://raw.githubusercontent.com/irhuru/dialect-classifier/main/spanish_subtitles_corpus.csv'\n",
        "  df = pd.read_csv(url)\n",
        "  df = df.dropna(how='all', axis='columns')\n",
        "  return df\n",
        "\n",
        "df = install_data()\n",
        "df.head(5)"
      ],
      "execution_count": 3,
      "outputs": [
        {
          "output_type": "execute_result",
          "data": {
            "text/html": [
              "<div>\n",
              "<style scoped>\n",
              "    .dataframe tbody tr th:only-of-type {\n",
              "        vertical-align: middle;\n",
              "    }\n",
              "\n",
              "    .dataframe tbody tr th {\n",
              "        vertical-align: top;\n",
              "    }\n",
              "\n",
              "    .dataframe thead th {\n",
              "        text-align: right;\n",
              "    }\n",
              "</style>\n",
              "<table border=\"1\" class=\"dataframe\">\n",
              "  <thead>\n",
              "    <tr style=\"text-align: right;\">\n",
              "      <th></th>\n",
              "      <th>line</th>\n",
              "      <th>subtitle</th>\n",
              "      <th>movie</th>\n",
              "      <th>country</th>\n",
              "    </tr>\n",
              "  </thead>\n",
              "  <tbody>\n",
              "    <tr>\n",
              "      <th>0</th>\n",
              "      <td>1</td>\n",
              "      <td>Me gustarÍa ser un hombre</td>\n",
              "      <td>dolor_y_gloria</td>\n",
              "      <td>spain</td>\n",
              "    </tr>\n",
              "    <tr>\n",
              "      <th>1</th>\n",
              "      <td>2</td>\n",
              "      <td>para baÑarme en el rÍo desnuda.</td>\n",
              "      <td>dolor_y_gloria</td>\n",
              "      <td>spain</td>\n",
              "    </tr>\n",
              "    <tr>\n",
              "      <th>2</th>\n",
              "      <td>3</td>\n",
              "      <td>¡QuÉ valor!</td>\n",
              "      <td>dolor_y_gloria</td>\n",
              "      <td>spain</td>\n",
              "    </tr>\n",
              "    <tr>\n",
              "      <th>3</th>\n",
              "      <td>4</td>\n",
              "      <td>¡QuÉ cosas tienes, Rosita!</td>\n",
              "      <td>dolor_y_gloria</td>\n",
              "      <td>spain</td>\n",
              "    </tr>\n",
              "    <tr>\n",
              "      <th>4</th>\n",
              "      <td>5</td>\n",
              "      <td>Di que sÍ.</td>\n",
              "      <td>dolor_y_gloria</td>\n",
              "      <td>spain</td>\n",
              "    </tr>\n",
              "  </tbody>\n",
              "</table>\n",
              "</div>"
            ],
            "text/plain": [
              "   line                         subtitle           movie country\n",
              "0     1        Me gustarÍa ser un hombre  dolor_y_gloria   spain\n",
              "1     2  para baÑarme en el rÍo desnuda.  dolor_y_gloria   spain\n",
              "2     3                      ¡QuÉ valor!  dolor_y_gloria   spain\n",
              "3     4       ¡QuÉ cosas tienes, Rosita!  dolor_y_gloria   spain\n",
              "4     5                       Di que sÍ.  dolor_y_gloria   spain"
            ]
          },
          "metadata": {
            "tags": []
          },
          "execution_count": 3
        }
      ]
    },
    {
      "cell_type": "markdown",
      "metadata": {
        "id": "YqNeKCIi7diD"
      },
      "source": [
        "The dataframe contains 4 columns:\n",
        "\n",
        "* Line: each subtitle line is numbered (this number restarts whenever the movie title changes)\n",
        "* Subtitle: the actual text from each subtitle line\n",
        "* Movie: movie title\n",
        "* Country: country where the movie is from (either Spain or Mexico)"
      ]
    },
    {
      "cell_type": "code",
      "metadata": {
        "id": "E7u2S6KA8G7n",
        "colab": {
          "base_uri": "https://localhost:8080/"
        },
        "outputId": "47d04ee2-65ec-4ec7-ac08-255861c5306f"
      },
      "source": [
        "def data_shape(df):\n",
        "  df_shape = df.shape\n",
        "  print(\"This dataframe has\", df_shape[0], \"rows and\", df_shape[1], \"columns\")\n",
        "\n",
        "data_shape(df)"
      ],
      "execution_count": 4,
      "outputs": [
        {
          "output_type": "stream",
          "text": [
            "This dataframe has 12854 rows and 4 columns\n"
          ],
          "name": "stdout"
        }
      ]
    },
    {
      "cell_type": "markdown",
      "metadata": {
        "id": "nYzGnERizsbR"
      },
      "source": [
        "For some reason, all characters containing diacritics (e.g., \"á\", \"ñ\"...) are capitalized. Therefore, I decided to normalize the text by making them lowercase. Additionally, I also removed all special characters from the text (subtitle column)."
      ]
    },
    {
      "cell_type": "code",
      "metadata": {
        "id": "gGeqtpMc0Sxu",
        "colab": {
          "base_uri": "https://localhost:8080/",
          "height": 204
        },
        "outputId": "99243175-ac95-4292-d0fd-fcb93fc957a1"
      },
      "source": [
        "df['subtitle'] = [text.lower() for text in df['subtitle']]\n",
        "\n",
        "df['subtitle'] = [re.sub(r'\\W+', ' ', text) for text in df['subtitle']]\n",
        "\n",
        "df.head(5)"
      ],
      "execution_count": 5,
      "outputs": [
        {
          "output_type": "execute_result",
          "data": {
            "text/html": [
              "<div>\n",
              "<style scoped>\n",
              "    .dataframe tbody tr th:only-of-type {\n",
              "        vertical-align: middle;\n",
              "    }\n",
              "\n",
              "    .dataframe tbody tr th {\n",
              "        vertical-align: top;\n",
              "    }\n",
              "\n",
              "    .dataframe thead th {\n",
              "        text-align: right;\n",
              "    }\n",
              "</style>\n",
              "<table border=\"1\" class=\"dataframe\">\n",
              "  <thead>\n",
              "    <tr style=\"text-align: right;\">\n",
              "      <th></th>\n",
              "      <th>line</th>\n",
              "      <th>subtitle</th>\n",
              "      <th>movie</th>\n",
              "      <th>country</th>\n",
              "    </tr>\n",
              "  </thead>\n",
              "  <tbody>\n",
              "    <tr>\n",
              "      <th>0</th>\n",
              "      <td>1</td>\n",
              "      <td>me gustaría ser un hombre</td>\n",
              "      <td>dolor_y_gloria</td>\n",
              "      <td>spain</td>\n",
              "    </tr>\n",
              "    <tr>\n",
              "      <th>1</th>\n",
              "      <td>2</td>\n",
              "      <td>para bañarme en el río desnuda</td>\n",
              "      <td>dolor_y_gloria</td>\n",
              "      <td>spain</td>\n",
              "    </tr>\n",
              "    <tr>\n",
              "      <th>2</th>\n",
              "      <td>3</td>\n",
              "      <td>qué valor</td>\n",
              "      <td>dolor_y_gloria</td>\n",
              "      <td>spain</td>\n",
              "    </tr>\n",
              "    <tr>\n",
              "      <th>3</th>\n",
              "      <td>4</td>\n",
              "      <td>qué cosas tienes rosita</td>\n",
              "      <td>dolor_y_gloria</td>\n",
              "      <td>spain</td>\n",
              "    </tr>\n",
              "    <tr>\n",
              "      <th>4</th>\n",
              "      <td>5</td>\n",
              "      <td>di que sí</td>\n",
              "      <td>dolor_y_gloria</td>\n",
              "      <td>spain</td>\n",
              "    </tr>\n",
              "  </tbody>\n",
              "</table>\n",
              "</div>"
            ],
            "text/plain": [
              "   line                         subtitle           movie country\n",
              "0     1        me gustaría ser un hombre  dolor_y_gloria   spain\n",
              "1     2  para bañarme en el río desnuda   dolor_y_gloria   spain\n",
              "2     3                       qué valor   dolor_y_gloria   spain\n",
              "3     4         qué cosas tienes rosita   dolor_y_gloria   spain\n",
              "4     5                       di que sí   dolor_y_gloria   spain"
            ]
          },
          "metadata": {
            "tags": []
          },
          "execution_count": 5
        }
      ]
    },
    {
      "cell_type": "markdown",
      "metadata": {
        "id": "cZiK2fxwGz80"
      },
      "source": [
        "# Data Exploration\n",
        "\n",
        "In order to become more familiar with the data, I decided to calculate the total number of subtitle lines for each country and for each movie. \n",
        "\n",
        "I did this by using pandas on the dataframe and by plotting the results. I used the `seaborn` library for the plots.\n"
      ]
    },
    {
      "cell_type": "code",
      "metadata": {
        "id": "UiPWI9HbFv9O",
        "colab": {
          "base_uri": "https://localhost:8080/",
          "height": 302
        },
        "outputId": "459f5e30-b19a-4d96-d122-02498f0efb5d"
      },
      "source": [
        "def lines_per_country(df):\n",
        "  return df.groupby('country', as_index=False).count()[['subtitle', 'country']]\n",
        "\n",
        "def plot_per_country(df):\n",
        "  mini_df = lines_per_country(df)\n",
        "  sns.set_theme(style=\"ticks\")\n",
        "  sns.set_palette(\"Pastel2\")\n",
        "  return sns.barplot(x = \"country\", y = \"subtitle\", data = mini_df)\n",
        "\n",
        "print(plot_per_country(df))"
      ],
      "execution_count": 6,
      "outputs": [
        {
          "output_type": "stream",
          "text": [
            "AxesSubplot(0.125,0.125;0.775x0.755)\n"
          ],
          "name": "stdout"
        },
        {
          "output_type": "display_data",
          "data": {
            "image/png": "[encoded data removed]",
            "text/plain": [
              "<Figure size 432x288 with 1 Axes>"
            ]
          },
          "metadata": {
            "tags": []
          }
        }
      ]
    },
    {
      "cell_type": "markdown",
      "metadata": {
        "id": "qvFwzezLRLdb"
      },
      "source": [
        "It looks like there are approximately 1,000 more subtitle lines from Spanish movies than from Mexican movies. "
      ]
    },
    {
      "cell_type": "code",
      "metadata": {
        "id": "I36EHgL4PlPU",
        "colab": {
          "base_uri": "https://localhost:8080/",
          "height": 412
        },
        "outputId": "7ef38505-23c4-4e89-c1ab-a0e72bfe0ae3"
      },
      "source": [
        "def lines_per_movie(df):\n",
        "  return df.groupby('movie', as_index=False).count()[['subtitle', 'movie']]\n",
        "\n",
        "def plot_per_movie(df):\n",
        "  mini_df = lines_per_movie(df)\n",
        "  sns.set_theme(style=\"ticks\")\n",
        "  sns.set_palette(\"Pastel2\")\n",
        "  plot = sns.barplot(x = \"movie\", y = \"subtitle\", data = mini_df)\n",
        "  plot.set_xticklabels(plot.get_xticklabels(), rotation=90)\n",
        "  return plot\n",
        "\n",
        "print(plot_per_movie(df))"
      ],
      "execution_count": 7,
      "outputs": [
        {
          "output_type": "stream",
          "text": [
            "AxesSubplot(0.125,0.125;0.775x0.755)\n"
          ],
          "name": "stdout"
        },
        {
          "output_type": "display_data",
          "data": {
            "image/png": "[encoded data removed]",
            "text/plain": [
              "<Figure size 432x288 with 1 Axes>"
            ]
          },
          "metadata": {
            "tags": []
          }
        }
      ]
    },
    {
      "cell_type": "markdown",
      "metadata": {
        "id": "or5mC2hkRi_g"
      },
      "source": [
        "The movie \"Cindy la regia\" (Mexico) has the most subtitle lines, whereas the movie \"La dictadura perfecta\" (also Mexico) barely has subtitle lines."
      ]
    },
    {
      "cell_type": "markdown",
      "metadata": {
        "id": "8lPkaNpdJhD7"
      },
      "source": [
        "# Data Analysis\n",
        "\n",
        "Since the data is already labeled (country: Spain or Mexico), I will use a **classification technique** in order to train a model that will tease apart whether a subtitle line is either characteristic from Spain or from Mexico.\n",
        "\n",
        "There are several machine learning algorithms for classification, but I will be using a Naive Bayes classifier."
      ]
    },
    {
      "cell_type": "markdown",
      "metadata": {
        "id": "-jCWfWk3JEBl"
      },
      "source": [
        "# Naive Bayes Classifier\n",
        "\n",
        "Naive Bayes classifiers are very popular. These classifiers are **based on probabilities** (probabilistic models) and are derived from the famous Bayes' Theorem you have probably heard of before.\n",
        "\n",
        "**Bayes' Theorem** is a simple mathematical formula to calculate conditional probabilities:\n",
        "\n",
        "![picture](https://drive.google.com/uc?export=view&id=1jMgIQdBavDxHF-ms8Tt4GBOUSGQVEI-v)\n",
        "\n",
        "where\n",
        "\n",
        "* P(A|B) is the probability of event A occurring, given event B has occurred;\n",
        "* P(B|A) is the probability of event B occurring, given event A has occurred;\n",
        "* P(A) is the probability of event A;\n",
        "* P(B) is the probability of event B.  \n",
        "\n",
        "If we were to apply this formula to our current data, we would replace A with a country (Spain or Mexico) and B with a sentence from our dataset. That way, we could calculate the probability of a sentence X being from either Spain or from Mexico. After we calculated those two probabilities (i.e., probability of sentence X being from Spain VS. probability of sentence X being from Mexico), we would choose the highest of the two to classify our sentence.\n",
        "\n",
        "That is, *if the probability of sentence X being from Spain was higher than the probability of sentence X being from Mexico, then the model would classify sentence X as being from Spain*. In other words, for each sentence in our dataset, we would have to calculate these two formulas:\n",
        "\n",
        "![picture](https://drive.google.com/uc?export=view&id=10yhgwIwJkByJvYXwIM7hEt1q1T30U2Yr)\n",
        "\n",
        "\n",
        "![picture](https://drive.google.com/uc?export=view&id=1FuigPF5TcIuQQA6goFGXyu6miPp1ZF7S)\n"
      ]
    },
    {
      "cell_type": "markdown",
      "metadata": {
        "id": "t3lhukJOPfMR"
      },
      "source": [
        "# Dealing with unique sentences\n",
        "\n",
        "Ok, so far so good. But, **what happens if each sentence is unique?** That is, we might only have one instance of each sentence, so this would difficult our calculations, as the numerator would always be 1. And if each sentence is unique, then all probabilities might end up having the same value, which is a problem.\n"
      ]
    },
    {
      "cell_type": "markdown",
      "metadata": {
        "id": "AxcMOtLSQuPn"
      },
      "source": [
        "# Solution: Use Words!\n",
        "\n",
        "A good solution for this would be to **use individual words instead of individual sentences**. This way, it is highly likely that words will be repeated across sentences, so the probability values will be more diverse. \n",
        "\n",
        "Also, it makes sense for the data we are dealing with, as some words may be characteristic of a certain dialect regardless of the sentence they are used in, so the model could learn that \"tendency\" and predict the dialect based on a specific word."
      ]
    },
    {
      "cell_type": "markdown",
      "metadata": {
        "id": "Mjw0_W4RR6ZA"
      },
      "source": [
        "# Preprocessing\n",
        "\n",
        "Before using a Naive Bayes classifier algorithm, we need to \"tweak\" our dataset a bit, since we have full subtitle sentences instead of individual words. Also, we need to split our dataset into training and testing set too.\n",
        "\n",
        "Fortunately, we can use scikit-learn for these two things.\n",
        "\n",
        "## Label encoding\n",
        "\n",
        "The first thing we will do is to change the 'country' labels to 0 and 1 instead of 'Spain' and 'Mexico'. This is known as label encoding, and it is required to later apply our machine learning algorithm. \n",
        "\n",
        "We can do this manually or we can use a preprocessing class from scikit-learn. I decided to go with this latter. You can read more about it [here](https://scikit-learn.org/stable/modules/generated/sklearn.preprocessing.LabelEncoder.html)."
      ]
    },
    {
      "cell_type": "code",
      "metadata": {
        "colab": {
          "base_uri": "https://localhost:8080/"
        },
        "id": "bmHXkrvDTtqQ",
        "outputId": "a4ba21e0-8892-4436-e0a4-ca33b07f2ee3"
      },
      "source": [
        "label_encoder = preprocessing.LabelEncoder()\n",
        "df['country'] = label_encoder.fit_transform(df['country'])\n",
        "print(df.head(5)) # Spain is 1 and Mexico is 0 (alphabetical order)"
      ],
      "execution_count": null,
      "outputs": [
        {
          "output_type": "stream",
          "text": [
            "   line                         subtitle           movie  country\n",
            "0     1        me gustaría ser un hombre  dolor_y_gloria        1\n",
            "1     2  para bañarme en el río desnuda   dolor_y_gloria        1\n",
            "2     3                       qué valor   dolor_y_gloria        1\n",
            "3     4         qué cosas tienes rosita   dolor_y_gloria        1\n",
            "4     5                       di que sí   dolor_y_gloria        1\n"
          ],
          "name": "stdout"
        }
      ]
    },
    {
      "cell_type": "markdown",
      "metadata": {
        "id": "6XrgFjjkT-LM"
      },
      "source": [
        "## Training and Testing Datasets\n",
        "\n",
        "The next step is to split our dataset into training and testing set. It is common practice to use 70% of the data for training and 30% for testing.\n",
        "\n",
        "I used scikit-learn too for this step. The output of `train_test_split` consists of four datasets: `X_train`, `X_test`, `y_train`, and `y_test`. The ones that start with an X refer to our independent variable or features (aka. subtitle), whereas those that start with y refer to our dependent variable or labels (aka. country). \n",
        "\n",
        "![picture](https://drive.google.com/uc?export=view&id=1C1qkL_ohkLtNbkrtXOwAxVi35S0HkF6h)\n",
        "\n",
        "The hyperparameter `test_size` refers to the percentage of data that we want to use for the testing dataset. In this case, it is 0.3, which is equivalent to 30% of the full dataset. The hyperparameter `random_state` is simply a random number that we can include for replicability purposes."
      ]
    },
    {
      "cell_type": "code",
      "metadata": {
        "id": "IWXeCOGHs0V_"
      },
      "source": [
        "X_train, X_test, y_train, y_test = train_test_split(df['subtitle'], df['country'], test_size=0.3,random_state=142)"
      ],
      "execution_count": null,
      "outputs": []
    },
    {
      "cell_type": "markdown",
      "metadata": {
        "id": "_bNbCPk1tgF-"
      },
      "source": [
        "We can explore our new datasets to see how many elements they include by using the `describe()` function from Python."
      ]
    },
    {
      "cell_type": "code",
      "metadata": {
        "colab": {
          "base_uri": "https://localhost:8080/"
        },
        "id": "_zDspsjstogV",
        "outputId": "4fc19c0c-a12b-4d00-ef92-818938e7d79c"
      },
      "source": [
        "def explore_set(dataset):\n",
        "  return dataset.describe()\n",
        "\n",
        "print(explore_set(X_train))\n",
        "print(explore_set(X_test))\n",
        "print(explore_set(y_train))\n",
        "print(explore_set(y_test))"
      ],
      "execution_count": null,
      "outputs": [
        {
          "output_type": "stream",
          "text": [
            "count     8997\n",
            "unique    8276\n",
            "top        sí \n",
            "freq        46\n",
            "Name: subtitle, dtype: object\n",
            "count     3857\n",
            "unique    3626\n",
            "top        sí \n",
            "freq        17\n",
            "Name: subtitle, dtype: object\n",
            "count    8997.000000\n",
            "mean        0.537957\n",
            "std         0.498585\n",
            "min         0.000000\n",
            "25%         0.000000\n",
            "50%         1.000000\n",
            "75%         1.000000\n",
            "max         1.000000\n",
            "Name: country, dtype: float64\n",
            "count    3857.000000\n",
            "mean        0.550946\n",
            "std         0.497462\n",
            "min         0.000000\n",
            "25%         0.000000\n",
            "50%         1.000000\n",
            "75%         1.000000\n",
            "max         1.000000\n",
            "Name: country, dtype: float64\n"
          ],
          "name": "stdout"
        }
      ]
    },
    {
      "cell_type": "markdown",
      "metadata": {
        "id": "LdqLc09FuI1T"
      },
      "source": [
        "## From Subtitle Sentences to Words \n",
        "\n",
        "The last preprocessing step is to split our dataset into individual words. I used `CountVectorizer` for this. I applied it on the training data only (`X_train`). "
      ]
    },
    {
      "cell_type": "code",
      "metadata": {
        "id": "Ua3rMpuKw-31"
      },
      "source": [
        "vectorizer = CountVectorizer()\n",
        "training_data = vectorizer.fit_transform(X_train.values)"
      ],
      "execution_count": null,
      "outputs": []
    },
    {
      "cell_type": "markdown",
      "metadata": {
        "id": "qB78DWr3xDHG"
      },
      "source": [
        "We have now built a vocabulary that we can check out by using `vectorizer.vocabulary_`. Since this would be very long to show (too many words!), the code below shows the first 20 words only."
      ]
    },
    {
      "cell_type": "code",
      "metadata": {
        "colab": {
          "base_uri": "https://localhost:8080/"
        },
        "id": "dJcxW4cBxYgy",
        "outputId": "05b19aeb-308a-47f6-afce-0669dfdd0872"
      },
      "source": [
        "dict(list(vectorizer.vocabulary_.items())[:20])"
      ],
      "execution_count": null,
      "outputs": [
        {
          "output_type": "execute_result",
          "data": {
            "text/plain": [
              "{'ahí': 232,\n",
              " 'ay': 581,\n",
              " 'ch': 1009,\n",
              " 'de': 1603,\n",
              " 'debería': 1609,\n",
              " 'del': 1676,\n",
              " 'está': 2419,\n",
              " 'hablamos': 2824,\n",
              " 'labios': 3314,\n",
              " 'mucho': 3899,\n",
              " 'no': 4045,\n",
              " 'offlectora': 4125,\n",
              " 'psicóloga': 4815,\n",
              " 'ser': 5409,\n",
              " 'sí': 5655,\n",
              " 'te': 5702,\n",
              " 'vale': 6038,\n",
              " 'viaje': 6164,\n",
              " 'viendo': 6177,\n",
              " 'yo': 6309}"
            ]
          },
          "metadata": {
            "tags": []
          },
          "execution_count": 13
        }
      ]
    },
    {
      "cell_type": "markdown",
      "metadata": {
        "id": "6miL5Xv2xwDD"
      },
      "source": [
        "# Fitting the model\n",
        "\n",
        "Now that our training dataset has been preprocessed, we can fit a Naive Bayes classifier model. \n",
        "\n",
        "But, what model exactly? There are 3 different types of Naive Bayes classifiers:\n",
        "\n",
        "* **Gaussian**: used for continuous data with a normal distribution.\n",
        "* **Bernoulli**: used for binomial data with 0's and 1's (either presence or absence).\n",
        "* **Multinomial**: used for discrete data. Not only interested in the presence or absence of a feature, but also on how frequent the feature is.\n",
        "\n",
        "Given the nature of our data, we will use a **Multinomial Naive Bayes classifier**, since we are interested in frequency counts. \n",
        "\n",
        "The code below shows how we can fit this model to our training data. Note the hyperparameter `alpha`. Its current value `1.0` indicates that we want to apply **Laplace smoothing** (aka. additive smoothing). This is important to avoid the [zero-frequency problem](https://medium.com/atoti/how-to-solve-the-zero-frequency-problem-in-naive-bayes-cd001cabe211). \n",
        "\n"
      ]
    },
    {
      "cell_type": "code",
      "metadata": {
        "colab": {
          "base_uri": "https://localhost:8080/"
        },
        "id": "19GmTjlRb0Me",
        "outputId": "c5b7a0b9-5830-4fc1-b0d7-d29cad3ee922"
      },
      "source": [
        "naive_bayes_classifier = MultinomialNB(alpha=1.0)\n",
        "naive_bayes_classifier.fit(training_data, y_train)"
      ],
      "execution_count": null,
      "outputs": [
        {
          "output_type": "execute_result",
          "data": {
            "text/plain": [
              "MultinomialNB(alpha=1.0, class_prior=None, fit_prior=True)"
            ]
          },
          "metadata": {
            "tags": []
          },
          "execution_count": 14
        }
      ]
    },
    {
      "cell_type": "markdown",
      "metadata": {
        "id": "QMSbw-LZd9X-"
      },
      "source": [
        "# Predicting the Testing Dataset\n",
        "\n",
        "Once we have fitted our model, we can use it on the testing dataset to predict the countries (i.e., Spain or Mexico). Of course, we also need to transform it first into words."
      ]
    },
    {
      "cell_type": "code",
      "metadata": {
        "id": "VN-kz7lgeyZY"
      },
      "source": [
        "testing_data = vectorizer.transform(X_test.values)\n",
        "y_pred = naive_bayes_classifier.predict(testing_data)"
      ],
      "execution_count": null,
      "outputs": []
    },
    {
      "cell_type": "markdown",
      "metadata": {
        "id": "sBG88TrvfjuD"
      },
      "source": [
        "# Evaluating the Model\n",
        "\n",
        "## Confusion Matrix\n",
        "\n",
        "The last step is to evaluate our model. To do this, we can create a confusion matrix. A confusion matrix is an array with four values arranged in the following way:\n",
        "\n",
        "![picture](https://drive.google.com/uc?export=view&id=1Fe1EWOMrX_lWF8dvhZ-6TsZ6cE_38rUC)\n",
        "\n",
        "\n",
        "The code below shows how we can get a confusion matrix using scikit-learn and how we can then plot it using `seaborn`."
      ]
    },
    {
      "cell_type": "code",
      "metadata": {
        "colab": {
          "base_uri": "https://localhost:8080/"
        },
        "id": "n7ycDlRZibzt",
        "outputId": "e9b036e4-7935-4c0c-d911-3eb2c086eb89"
      },
      "source": [
        "def get_cmatrix(test_data, pred_data):\n",
        "  return metrics.confusion_matrix(test_data, pred_data)\n",
        "\n",
        "array_cf = get_cmatrix(y_test, y_pred)\n",
        "print(array_cf)"
      ],
      "execution_count": null,
      "outputs": [
        {
          "output_type": "stream",
          "text": [
            "[[1030  702]\n",
            " [ 415 1710]]\n"
          ],
          "name": "stdout"
        }
      ]
    },
    {
      "cell_type": "code",
      "metadata": {
        "colab": {
          "base_uri": "https://localhost:8080/",
          "height": 273
        },
        "id": "p7ccq4caggzi",
        "outputId": "d8065eac-a7a8-4daf-b18e-d01a22868623"
      },
      "source": [
        "df_cm = pd.DataFrame(array_cf, range(2), range(2))\n",
        "sns.set(font_scale=1.4)\n",
        "sns.heatmap(df_cm, annot=False, linewidths=.5, cmap=\"rocket_r\")\n",
        "\n",
        "plt.show()"
      ],
      "execution_count": null,
      "outputs": [
        {
          "output_type": "display_data",
          "data": {
            "image/png": "[encoded data removed]",
            "text/plain": [
              "<Figure size 432x288 with 2 Axes>"
            ]
          },
          "metadata": {
            "tags": []
          }
        }
      ]
    },
    {
      "cell_type": "markdown",
      "metadata": {
        "id": "poYCloyomcW0"
      },
      "source": [
        "There were more values correctly predicted than values incorrectly predicted."
      ]
    },
    {
      "cell_type": "markdown",
      "metadata": {
        "id": "JWhFb_2KlqR-"
      },
      "source": [
        "## Other Metrics\n",
        "\n",
        "There are other metrics we can use to evaluate the model.\n",
        "\n",
        "* **Accuracy**: it tells us how often a data point is classifed correctly.\n",
        "* **Precision**: it refers to the positive predictive value. It is the fraction of relevant instances among the retrieved instances. Its formula is:\n",
        "\n",
        "![picture](https://drive.google.com/uc?export=view&id=1AafKP3pml9fhaduHTQZ9cj8s4vFAp4Tr)\n",
        "\n",
        "* **Recall**: it refers to the sensitivity of the model. It is the fraction of the total amount of relevant instances that were actually retrieved. Its formula is:\n",
        "\n",
        "![picture](https://drive.google.com/uc?export=view&id=1ZIsGA-6lMVL1zj1elIWiaYRWe_1GHHP-)\n",
        "\n",
        "Luckily, scikit-learn has a way to get these metrics easily (see code below)."
      ]
    },
    {
      "cell_type": "code",
      "metadata": {
        "colab": {
          "base_uri": "https://localhost:8080/"
        },
        "id": "mJwgFtrXzca8",
        "outputId": "fe18b2d8-4eb6-4dc3-ab30-7f5a3f14293f"
      },
      "source": [
        "print(\"Accuracy:\",metrics.accuracy_score(y_test, y_pred))\n",
        "print(\"Precision:\", metrics.precision_score(y_test, y_pred, average='binary'))\n",
        "print(\"Recall:\", metrics.recall_score(y_test, y_pred, average='binary'))"
      ],
      "execution_count": null,
      "outputs": [
        {
          "output_type": "stream",
          "text": [
            "Accuracy: 0.6987295825771325\n",
            "Precision: 0.7029077117572693\n",
            "Recall: 0.7849411764705883\n"
          ],
          "name": "stdout"
        }
      ]
    },
    {
      "cell_type": "markdown",
      "metadata": {
        "id": "bhvFwkZ7rtEV"
      },
      "source": [
        "It looks like our model has an **accuracy of about 70%**, which is not too high. However, this could be due to the fact that the model was trained on text taken from subtitle lines. If we were using informal texts from social media, for example, I would expect to see more variability in the data and thus more chances to tease apart whether a word is characteristic from one country or the other."
      ]
    }
  ]
}